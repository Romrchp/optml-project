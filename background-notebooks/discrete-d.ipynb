{
 "cells": [
  {
   "cell_type": "markdown",
   "metadata": {},
   "source": [
    "Discrete Gradient : the $D$ operator\n",
    "===========================\n",
    "\n",
    "## 1. Definition of the $D$ (Discrete Gradient) operator\n",
    "\n",
    "The $D$ is defined as a **linear** operator, which maps an image to another image whose values are pairs of **vertical and horizontal finite differences**:\n",
    "\n",
    "$(Dx)_{n_1,n_2} = ( (Dx)_{n_1,n_2,v}, (Dx)_{n_1,n_2,h}) = (x_{n_1+1,n_2} - x_{n_1,n_2} , x_{n_1,n_2+1} - x_{n_1,n_2}) \\in \\R^2$\n",
    "\n",
    "where :\n",
    "- $n_1$ is the row number,\n",
    "- $n_2$ is the column number,\n",
    "- $n_1 = n_2 = 0$ corresponds to the pixel at the top left corner\n",
    "- Neumann boundary conditions are assumed : **a difference accross the boundary is zero**\n",
    "\n",
    "The operator $D$, as a function, can be defined as :\n",
    "\n"
   ]
  },
  {
   "cell_type": "code",
   "execution_count": 1,
   "metadata": {},
   "outputs": [],
   "source": [
    "import numpy as np\n",
    "def D(x):\n",
    "    vdiff = np.r_[np.diff(x,1,0), np.zeros([1,x.shape[1]])] \n",
    "    hdiff = np.c_[np.diff(x,1,1), np.zeros([x.shape[0],1])] \n",
    "    return np.concatenate((vdiff[...,np.newaxis], hdiff[...,np.newaxis]), axis=2) "
   ]
  },
  {
   "cell_type": "markdown",
   "metadata": {},
   "source": [
    "Explanations :\n",
    "- **np.diff(x,i,n)** computes the $(i)$-th order differences along the $n$-th axis. In the case of $D$ we have the first order difference, which yields out[i] = x[i+1] - x[i] along the given axis."
   ]
  },
  {
   "cell_type": "code",
   "execution_count": 2,
   "metadata": {},
   "outputs": [
    {
     "name": "stdout",
     "output_type": "stream",
     "text": [
      "x: [[1 2 4 7 0]\n",
      " [1 8 7 9 6]\n",
      " [0 3 8 9 0]\n",
      " [4 7 7 7 7]\n",
      " [0 1 2 3 4]]\n"
     ]
    }
   ],
   "source": [
    "x = np.array([[1, 2, 4, 7, 0],[1,8,7,9,6],[0, 3, 8, 9, 0],[4,7,7,7,7],[0,1,2,3,4]])\n",
    "print('x:',x)"
   ]
  },
  {
   "cell_type": "code",
   "execution_count": 3,
   "metadata": {},
   "outputs": [
    {
     "name": "stdout",
     "output_type": "stream",
     "text": [
      "np.diff(x,1,0), vertical differences:\n",
      " [[ 0  6  3  2  6]\n",
      " [-1 -5  1  0 -6]\n",
      " [ 4  4 -1 -2  7]\n",
      " [-4 -6 -5 -4 -3]] \n",
      "\n",
      "np.diff(x,1,1), horizontal differences:\n",
      " [[ 1  2  3 -7]\n",
      " [ 7 -1  2 -3]\n",
      " [ 3  5  1 -9]\n",
      " [ 3  0  0  0]\n",
      " [ 1  1  1  1]]\n"
     ]
    }
   ],
   "source": [
    "print('np.diff(x,1,0), vertical differences:\\n',np.diff(x,1,0),'\\n')\n",
    "print('np.diff(x,1,1), horizontal differences:\\n',np.diff(x,1,1))"
   ]
  },
  {
   "cell_type": "markdown",
   "metadata": {},
   "source": [
    "- **np.zeros([a,b])** creates a vector of zeros. For *vdiff* we create a row vector of zeros with the same number of columns as $x$, for *hdiff*, we create a column vector of zeros with the same number of rows as $x$.\n",
    "\n",
    "- **np.r_[x,y]** concatenates $x$ and $y$ along the **0th/row** axis"
   ]
  },
  {
   "cell_type": "code",
   "execution_count": 4,
   "metadata": {},
   "outputs": [
    {
     "data": {
      "text/plain": [
       "array([1, 2, 3, 4, 5, 6])"
      ]
     },
     "execution_count": 4,
     "metadata": {},
     "output_type": "execute_result"
    }
   ],
   "source": [
    "np.r_[[1,2,3], [4,5,6]]"
   ]
  },
  {
   "cell_type": "markdown",
   "metadata": {},
   "source": [
    "\n",
    " ==> The np.zeros arrays are created and concatenated with the **np.diff** to ensure that the last row/or column has $0$-s for the Neumann boundary conditions. Example :"
   ]
  },
  {
   "cell_type": "code",
   "execution_count": 5,
   "metadata": {},
   "outputs": [
    {
     "name": "stdout",
     "output_type": "stream",
     "text": [
      "[[ 0.  6.  3.  2.  6.]\n",
      " [-1. -5.  1.  0. -6.]\n",
      " [ 4.  4. -1. -2.  7.]\n",
      " [-4. -6. -5. -4. -3.]\n",
      " [ 0.  0.  0.  0.  0.]]\n"
     ]
    }
   ],
   "source": [
    "print(np.r_[np.diff(x,1,0), np.zeros([1,x.shape[1]])])"
   ]
  },
  {
   "cell_type": "markdown",
   "metadata": {},
   "source": [
    "Therefore, \n",
    "- $ (Dx)_{n_1,n_2,v} = x_{n_1+1,n_2}-x_{n_1,n_2}$ is computed by the *vdiff* line (for each pixel of the original image),\n",
    "- $ (Dx)_{n_1,n_2,h} = x_{n_1,n_2+1}-x_{n_1,n_2}$ is computed by the *hdiff* line (for each pixel of the original image).\n",
    "\n",
    "What's left to do is to concatenate them so that for each pixel of the original image, we produce a $ ((Dx)_{n_1,n_2,v},(Dx)_{n_1,n_2,h})\\in \\R^2$.\n",
    "\n",
    "The **return** therefore concatenates both of *vdiff* and *hdiff* along a new third dimension. This produces a matrix where each element is an array $(Dx)_{n_1,n_2} \\in \\R^2$, i.e for each pixel of the original image.\n",
    "- *np.newaxis* specifies that we want to add a new dimension to *vdiff* and *hdiff*, and we then concatenate both on this new dim. using the *axis=2* parameter \n",
    "\n"
   ]
  },
  {
   "cell_type": "code",
   "execution_count": 6,
   "metadata": {},
   "outputs": [
    {
     "name": "stdout",
     "output_type": "stream",
     "text": [
      "vdiff, vertical differences:\n",
      " [[ 0.  6.  3.  2.  6.]\n",
      " [-1. -5.  1.  0. -6.]\n",
      " [ 4.  4. -1. -2.  7.]\n",
      " [-4. -6. -5. -4. -3.]\n",
      " [ 0.  0.  0.  0.  0.]] \n",
      "\n",
      "hdiff, horizontal differences:\n",
      " [[ 1.  2.  3. -7.  0.]\n",
      " [ 7. -1.  2. -3.  0.]\n",
      " [ 3.  5.  1. -9.  0.]\n",
      " [ 3.  0.  0.  0.  0.]\n",
      " [ 1.  1.  1.  1.  0.]] \n",
      "\n",
      "total Dx: [[[ 0.  1.]\n",
      "  [ 6.  2.]\n",
      "  [ 3.  3.]\n",
      "  [ 2. -7.]\n",
      "  [ 6.  0.]]\n",
      "\n",
      " [[-1.  7.]\n",
      "  [-5. -1.]\n",
      "  [ 1.  2.]\n",
      "  [ 0. -3.]\n",
      "  [-6.  0.]]\n",
      "\n",
      " [[ 4.  3.]\n",
      "  [ 4.  5.]\n",
      "  [-1.  1.]\n",
      "  [-2. -9.]\n",
      "  [ 7.  0.]]\n",
      "\n",
      " [[-4.  3.]\n",
      "  [-6.  0.]\n",
      "  [-5.  0.]\n",
      "  [-4.  0.]\n",
      "  [-3.  0.]]\n",
      "\n",
      " [[ 0.  1.]\n",
      "  [ 0.  1.]\n",
      "  [ 0.  1.]\n",
      "  [ 0.  1.]\n",
      "  [ 0.  0.]]]\n"
     ]
    }
   ],
   "source": [
    "vdiff = np.r_[np.diff(x,1,0), np.zeros([1,x.shape[1]])]\n",
    "hdiff = np.c_[np.diff(x,1,1), np.zeros([x.shape[0],1])]\n",
    "\n",
    "print('vdiff, vertical differences:\\n',vdiff,'\\n')\n",
    "print('hdiff, horizontal differences:\\n',hdiff,'\\n')\n",
    "dx = np.concatenate((vdiff[...,np.newaxis], hdiff[...,np.newaxis]), axis=2)\n",
    "print('total Dx:',dx)"
   ]
  },
  {
   "cell_type": "markdown",
   "metadata": {},
   "source": [
    "The "
   ]
  },
  {
   "cell_type": "code",
   "execution_count": 7,
   "metadata": {},
   "outputs": [],
   "source": [
    "D = lambda x : np.c_['2,3',np.r_[np.diff(x,1,0), np.zeros([1,x.shape[1]])],np.c_[np.diff(x,1,1), np.zeros([x.shape[0],1])]]"
   ]
  },
  {
   "cell_type": "markdown",
   "metadata": {},
   "source": [
    "defined in *ForwardBackwardDual.ipynb* is just a more compact definition of D(x)."
   ]
  },
  {
   "cell_type": "markdown",
   "metadata": {},
   "source": [
    "## 2. The corresponding $D$* Hermitian adjoint of $D$"
   ]
  },
  {
   "cell_type": "markdown",
   "metadata": {},
   "source": [
    "In *ForwardBackwardDual.ipynb*,  $D^*$ is mentioned as being the adjoint of $D$. It's therefore defined such that, for any $x$ and $y$ :\n",
    "\n",
    "$$ \\langle D(x) , y \\rangle  =  \\langle x , D^*(y) \\rangle$$\n",
    "\n",
    "As we're operating here in finite dimensions, i.e our operators such as $D$ can be represented as matrices, **This adjoint/hermitian adjoint is given by the conjugate transpose**. The conjugate transpose of a $m \\times n$ matrix $A$ is formally defined by \n",
    "\n",
    "$$ (A^H)_{ij} = \\overline{A_{ji}}$$\n",
    "\n",
    "==> For real matrices, the conjugate transpose should just be the transpose, i.e $A^H = A^T$\n",
    "\n",
    "In our case however and with how they decide to define $D$, we don't have a $D$ matrix, but rather a function that is applied to $x$, s.t $D(x)$.\n"
   ]
  },
  {
   "cell_type": "markdown",
   "metadata": {},
   "source": [
    "$D^*$ as a function will therefore perform similar operations than $D$ but such that applying it to the $D(x)$ maps back the discrete gradient to an image (?). The formula *ForwardBackwardDual.ipynb* gives us for $D^*$ is :"
   ]
  },
  {
   "cell_type": "code",
   "execution_count": 9,
   "metadata": {},
   "outputs": [],
   "source": [
    "Dadj = lambda v : np.r_['0,2',-v[0,:,0],-np.diff(v[:-1,:,0],1,0),v[-2,:,0]] + np.c_['1,2',-v[:,0,1],-np.diff(v[:,:-1,1],1,1),v[:,-2,1]]"
   ]
  },
  {
   "cell_type": "markdown",
   "metadata": {},
   "source": [
    "By expanding it a bit to make it more readable, we can write "
   ]
  },
  {
   "cell_type": "code",
   "execution_count": 10,
   "metadata": {},
   "outputs": [],
   "source": [
    "def Dadj(v):\n",
    "\n",
    "    top_boundary = -v[0, :, 0]\n",
    "    interior_vertical_differences = -np.diff(v[:-1, :, 0], 1, 0)\n",
    "    bottom_boundary = v[-2, :, 0]\n",
    "    \n",
    "    left_boundary = -v[:, 0, 1]\n",
    "    interior_horizontal_differences = -np.diff(v[:, :-1, 1], 1, 1)\n",
    "    right_boundary = v[:, -2, 1]\n",
    "    \n",
    "    concat_axis_0 = np.r_['0,2',\n",
    "                          top_boundary,\n",
    "                          interior_vertical_differences,\n",
    "                          bottom_boundary]\n",
    "    \n",
    "    concat_axis_1 = np.c_['1,2',\n",
    "                          left_boundary,\n",
    "                          interior_horizontal_differences,\n",
    "                          right_boundary]\n",
    "\n",
    "    return concat_axis_0 + concat_axis_1"
   ]
  },
  {
   "cell_type": "markdown",
   "metadata": {},
   "source": [
    "**Explanations** :\n",
    "\n",
    "- **-v[0,:,0]** takes the first column in the first element of *v* and negates it (uses it as a left-boundary for the Neumann conditions)\n",
    "- **v[-2,:,0]** takes the first column of the second-to-last element of *v* (used as the right-boundary for the Neumann conditions)\n",
    "- **-np.diff(v[:-1,:,0],1,0)** Takes the first column of all the elements in *v* but the last one to use them as rows, and then compute the **vertical** differences between them. Then negates it. ==> Interior portion of the vertical differences.\n",
    "\n",
    "    Examples (knowing that we use $D(x)$ as $v$ in what follows) :"
   ]
  },
  {
   "cell_type": "code",
   "execution_count": 11,
   "metadata": {},
   "outputs": [
    {
     "name": "stdout",
     "output_type": "stream",
     "text": [
      "Reminder of D(x) :\n",
      " [[[ 0.  1.]\n",
      "  [ 6.  2.]\n",
      "  [ 3.  3.]\n",
      "  [ 2. -7.]\n",
      "  [ 6.  0.]]\n",
      "\n",
      " [[-1.  7.]\n",
      "  [-5. -1.]\n",
      "  [ 1.  2.]\n",
      "  [ 0. -3.]\n",
      "  [-6.  0.]]\n",
      "\n",
      " [[ 4.  3.]\n",
      "  [ 4.  5.]\n",
      "  [-1.  1.]\n",
      "  [-2. -9.]\n",
      "  [ 7.  0.]]\n",
      "\n",
      " [[-4.  3.]\n",
      "  [-6.  0.]\n",
      "  [-5.  0.]\n",
      "  [-4.  0.]\n",
      "  [-3.  0.]]\n",
      "\n",
      " [[ 0.  1.]\n",
      "  [ 0.  1.]\n",
      "  [ 0.  1.]\n",
      "  [ 0.  1.]\n",
      "  [ 0.  0.]]]\n"
     ]
    }
   ],
   "source": [
    "print('Reminder of D(x) :\\n', dx)"
   ]
  },
  {
   "cell_type": "code",
   "execution_count": 12,
   "metadata": {},
   "outputs": [
    {
     "name": "stdout",
     "output_type": "stream",
     "text": [
      "We then have :\n",
      "\n",
      "v[0,:,0] : [0. 6. 3. 2. 6.] \n",
      "\n",
      "v[-2,:,0] : [-4. -6. -5. -4. -3.] \n",
      "\n",
      "v[:-1,:,0] : \n",
      " [[ 0.  6.  3.  2.  6.]\n",
      " [-1. -5.  1.  0. -6.]\n",
      " [ 4.  4. -1. -2.  7.]\n",
      " [-4. -6. -5. -4. -3.]] \n",
      "\n",
      "np.diff(dx[:-1,:,0],1,0) : \n",
      " [[ -1. -11.  -2.  -2. -12.]\n",
      " [  5.   9.  -2.  -2.  13.]\n",
      " [ -8. -10.  -4.  -2. -10.]]\n"
     ]
    }
   ],
   "source": [
    "print('We then have :\\n')\n",
    "print('v[0,:,0] :', dx[0,:,0], '\\n')\n",
    "print('v[-2,:,0] :', dx[-2,:,0], '\\n')\n",
    "print('v[:-1,:,0] : \\n',dx[:-1,:,0], '\\n')\n",
    "print('np.diff(dx[:-1,:,0],1,0) : \\n',np.diff(dx[:-1,:,0],1,0))"
   ]
  },
  {
   "cell_type": "markdown",
   "metadata": {},
   "source": [
    "Then, in the same manner, we have :\n",
    "\n",
    "- **-v[:,0,1]** : Extracts the first \"value\" of the second channel of each sub-element *v*, negates it ==> used as the 'left'-boundary\n",
    "- **-np.diff(v[:,:-1,1],1,1)** : Takes the second channel of all *v* elements, then computes the differences along the axis 1 (i.e columns), excluding the very last one. ==> Interior portion of the horizontal differences\n",
    "- **v[:,-2,1]** : The second-to-last column of the second channel of *v*, and added as the 'right' boundary."
   ]
  },
  {
   "cell_type": "code",
   "execution_count": 13,
   "metadata": {},
   "outputs": [
    {
     "name": "stdout",
     "output_type": "stream",
     "text": [
      "We have :\n",
      "\n",
      "v[:,0,1] : [1. 7. 3. 3. 1.] \n",
      "\n",
      "v[:,-2,1] : [-7. -3. -9.  0.  1.] \n",
      "\n",
      "v[:,:,-1,1] : \n",
      " [[ 1.  2.  3. -7.]\n",
      " [ 7. -1.  2. -3.]\n",
      " [ 3.  5.  1. -9.]\n",
      " [ 3.  0.  0.  0.]\n",
      " [ 1.  1.  1.  1.]] \n",
      "\n",
      "np.diff(dx[:,:,-1,1],1,1) : \n",
      " [[  1.   1. -10.]\n",
      " [ -8.   3.  -5.]\n",
      " [  2.  -4. -10.]\n",
      " [ -3.   0.   0.]\n",
      " [  0.   0.   0.]]\n"
     ]
    }
   ],
   "source": [
    "print('We have :\\n')\n",
    "print('v[:,0,1] :', dx[:,0,1], '\\n')\n",
    "print('v[:,-2,1] :', dx[:,-2,1], '\\n')\n",
    "print('v[:,:,-1,1] : \\n', dx[:,:-1,1], '\\n')\n",
    "print('np.diff(dx[:,:,-1,1],1,1) : \\n',np.diff(dx[:,:-1,1],1,1))"
   ]
  },
  {
   "cell_type": "markdown",
   "metadata": {},
   "source": [
    "After computing these quantities, we have two separate concatenations :\n",
    "\n",
    "- **np.r_['0,2', ...]** Will take the top-boundary, the interior vertical differences and the bottom boundary and concatenate them along the first axis (i.e stacking them on each other)\n",
    "\n",
    "- **np.c_['1,2', ...]** Will take the left-boundary, the interior horizontal differences and the right-boundary and concatenate them along the second axis (i.e next to each other)"
   ]
  },
  {
   "cell_type": "code",
   "execution_count": 14,
   "metadata": {},
   "outputs": [
    {
     "data": {
      "text/plain": [
       "array([[ -0.,  -6.,  -3.,  -2.,  -6.],\n",
       "       [  1.,  11.,   2.,   2.,  12.],\n",
       "       [ -5.,  -9.,   2.,   2., -13.],\n",
       "       [  8.,  10.,   4.,   2.,  10.],\n",
       "       [ -4.,  -6.,  -5.,  -4.,  -3.]])"
      ]
     },
     "execution_count": 14,
     "metadata": {},
     "output_type": "execute_result"
    }
   ],
   "source": [
    "np.r_['0,2',-dx[0,:,0],-np.diff(dx[:-1,:,0],1,0),dx[-2,:,0]]"
   ]
  },
  {
   "cell_type": "code",
   "execution_count": 15,
   "metadata": {},
   "outputs": [
    {
     "data": {
      "text/plain": [
       "array([[-1., -1., -1., 10., -7.],\n",
       "       [-7.,  8., -3.,  5., -3.],\n",
       "       [-3., -2.,  4., 10., -9.],\n",
       "       [-3.,  3., -0., -0.,  0.],\n",
       "       [-1., -0., -0., -0.,  1.]])"
      ]
     },
     "execution_count": 15,
     "metadata": {},
     "output_type": "execute_result"
    }
   ],
   "source": [
    "np.c_['1,2',-dx[:,0,1],-np.diff(dx[:,:-1,1],1,1),dx[:,-2,1]]"
   ]
  },
  {
   "cell_type": "markdown",
   "metadata": {},
   "source": [
    "Finally, these two concatenated arrays are added **element-wise** to each other to yield a final 2D array that has the same shape as the original image $x$."
   ]
  },
  {
   "cell_type": "code",
   "execution_count": 16,
   "metadata": {},
   "outputs": [
    {
     "name": "stdout",
     "output_type": "stream",
     "text": [
      "[[ -1.  -7.  -4.   8. -13.]\n",
      " [ -6.  19.  -1.   7.   9.]\n",
      " [ -8. -11.   6.  12. -22.]\n",
      " [  5.  13.   4.   2.  10.]\n",
      " [ -5.  -6.  -5.  -4.  -2.]]\n"
     ]
    }
   ],
   "source": [
    "print(Dadj(dx))"
   ]
  },
  {
   "cell_type": "markdown",
   "metadata": {},
   "source": [
    "-------------\n",
    "So basically, we have operations that revert the 3D array obtained from applying $D$ to $x$ back to a 2D-array (i.e image in our case). But we can see that \n",
    "$$D^*(D(x)) \\neq x $$"
   ]
  }
 ],
 "metadata": {
  "kernelspec": {
   "display_name": "new-ml-proj-2",
   "language": "python",
   "name": "python3"
  },
  "language_info": {
   "codemirror_mode": {
    "name": "ipython",
    "version": 3
   },
   "file_extension": ".py",
   "mimetype": "text/x-python",
   "name": "python",
   "nbconvert_exporter": "python",
   "pygments_lexer": "ipython3",
   "version": "3.9.7"
  }
 },
 "nbformat": 4,
 "nbformat_minor": 2
}
