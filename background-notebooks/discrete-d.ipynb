{
 "cells": [
  {
   "cell_type": "markdown",
   "metadata": {},
   "source": [
    "Discrete Gradient : the $D$ operator\n",
    "===========================\n",
    "\n",
    "## 1. Definition of the $D$ (Discrete Gradient) operator\n",
    "\n",
    "The $D$ is defined as a **linear** operator, which maps an image to another image whose values are pairs of **vertical and horizontal finite differences**:\n",
    "\n",
    "$(Dx)_{n_1,n_2} = ( (Dx)_{n_1,n_2,v}, (Dx)_{n_1,n_2,h}) = (x_{n_1+1,n_2} - x_{n_1,n_2} , x_{n_1,n_2+1} - x_{n_1,n_2}) \\in \\R^2$\n",
    "\n",
    "where :\n",
    "- $n_1$ is the row number,\n",
    "- $n_2$ is the column number,\n",
    "- $n_1 = n_2 = 0$ corresponds to the pixel at the top left corner\n",
    "- Neumann boundary conditions are assumed : **a difference accross the boundary is zero**\n",
    "\n",
    "The operator $D$, as a function, can be defined as :\n",
    "\n"
   ]
  },
  {
   "cell_type": "code",
   "execution_count": 2,
   "metadata": {},
   "outputs": [],
   "source": [
    "import numpy as np\n",
    "def D(x):\n",
    "    vdiff = np.r_[np.diff(x,1,0), np.zeros([1,x.shape[1]])] \n",
    "    hdiff = np.c_[np.diff(x,1,1), np.zeros([x.shape[0],1])] \n",
    "    return np.concatenate((vdiff[...,np.newaxis], hdiff[...,np.newaxis]), axis=2) "
   ]
  },
  {
   "cell_type": "markdown",
   "metadata": {},
   "source": [
    "Explanations :\n",
    "- **np.diff(x,i,n)** computes the $(i)$-th order differences along the $n$-th axis. In the case of $D$ we have the first order difference, which yields out[i] = x[i+1] - x[i] along the given axis."
   ]
  },
  {
   "cell_type": "code",
   "execution_count": 25,
   "metadata": {},
   "outputs": [
    {
     "name": "stdout",
     "output_type": "stream",
     "text": [
      "x: [[1 2 4 7 0]\n",
      " [1 8 7 9 6]\n",
      " [0 3 8 9 0]\n",
      " [4 7 7 7 7]]\n"
     ]
    }
   ],
   "source": [
    "x = np.array([[1, 2, 4, 7, 0],[1,8,7,9,6],[0, 3, 8, 9, 0],[4,7,7,7,7]])\n",
    "print('x:',x)"
   ]
  },
  {
   "cell_type": "code",
   "execution_count": 31,
   "metadata": {},
   "outputs": [
    {
     "name": "stdout",
     "output_type": "stream",
     "text": [
      "np.diff(x,1,0), vertical differences:\n",
      " [[ 0  6  3  2  6]\n",
      " [-1 -5  1  0 -6]\n",
      " [ 4  4 -1 -2  7]] \n",
      "\n",
      "np.diff(x,1,1), horizontal differences:\n",
      " [[ 1  2  3 -7]\n",
      " [ 7 -1  2 -3]\n",
      " [ 3  5  1 -9]\n",
      " [ 3  0  0  0]]\n"
     ]
    }
   ],
   "source": [
    "print('np.diff(x,1,0), vertical differences:\\n',np.diff(x,1,0),'\\n')\n",
    "print('np.diff(x,1,1), horizontal differences:\\n',np.diff(x,1,1))"
   ]
  },
  {
   "cell_type": "markdown",
   "metadata": {},
   "source": [
    "- **np.zeros([a,b])** creates a vector of zeros. For *vdiff* we create a row vector of zeros with the same number of columns as $x$, for *hdiff*, we create a column vector of zeros with the same number of rows as $x$.\n",
    "\n",
    "- **np.r_[x,y]** concatenates $x$ and $y$ along the **0th/row** axis"
   ]
  },
  {
   "cell_type": "code",
   "execution_count": 3,
   "metadata": {},
   "outputs": [
    {
     "data": {
      "text/plain": [
       "array([1, 2, 3, 4, 5, 6])"
      ]
     },
     "execution_count": 3,
     "metadata": {},
     "output_type": "execute_result"
    }
   ],
   "source": [
    "np.r_[[1,2,3], [4,5,6]]"
   ]
  },
  {
   "cell_type": "markdown",
   "metadata": {},
   "source": [
    "\n",
    " ==> The np.zeros arrays are created and concatenated with the **np.diff** to ensure that the last row/or column has $0$-s for the Neumann boundary conditions. Example :"
   ]
  },
  {
   "cell_type": "code",
   "execution_count": 34,
   "metadata": {},
   "outputs": [
    {
     "name": "stdout",
     "output_type": "stream",
     "text": [
      "[[ 0.  6.  3.  2.  6.]\n",
      " [-1. -5.  1.  0. -6.]\n",
      " [ 4.  4. -1. -2.  7.]\n",
      " [ 0.  0.  0.  0.  0.]]\n"
     ]
    }
   ],
   "source": [
    "print(np.r_[np.diff(x,1,0), np.zeros([1,x.shape[1]])])"
   ]
  },
  {
   "cell_type": "markdown",
   "metadata": {},
   "source": [
    "Therefore, \n",
    "- $ (Dx)_{n_1,n_2,v} = x_{n_1+1,n_2}-x_{n_1,n_2}$ is computed by the *vdiff* line (for each pixel of the original image),\n",
    "- $ (Dx)_{n_1,n_2,h} = x_{n_1,n_2+1}-x_{n_1,n_2}$ is computed by the *hdiff* line (for each pixel of the original image).\n",
    "\n",
    "What's left to do is to concatenate them so that for each pixel of the original image, we produce a $ ((Dx)_{n_1,n_2,v},(Dx)_{n_1,n_2,h})\\in \\R^2$.\n",
    "\n",
    "The **return** therefore concatenates both of *vdiff* and *hdiff* along a new third dimension. This produces a matrix where each element is an array $(Dx)_{n_1,n_2} \\in \\R^2$, i.e for each pixel of the original image.\n",
    "- *np.newaxis* specifies that we want to add a new dimension to *vdiff* and *hdiff*, and we then concatenate both on this new dim. using the *axis=2* parameter \n",
    "\n"
   ]
  },
  {
   "cell_type": "code",
   "execution_count": 41,
   "metadata": {},
   "outputs": [
    {
     "name": "stdout",
     "output_type": "stream",
     "text": [
      "vdiff, vertical differences:\n",
      " [[ 0.  6.  3.  2.  6.]\n",
      " [-1. -5.  1.  0. -6.]\n",
      " [ 4.  4. -1. -2.  7.]\n",
      " [ 0.  0.  0.  0.  0.]] \n",
      "\n",
      "hdiff, horizontal differences:\n",
      " [[ 1.  2.  3. -7.  0.]\n",
      " [ 7. -1.  2. -3.  0.]\n",
      " [ 3.  5.  1. -9.  0.]\n",
      " [ 3.  0.  0.  0.  0.]] \n",
      "\n",
      "total Dx: [[[ 0.  1.]\n",
      "  [ 6.  2.]\n",
      "  [ 3.  3.]\n",
      "  [ 2. -7.]\n",
      "  [ 6.  0.]]\n",
      "\n",
      " [[-1.  7.]\n",
      "  [-5. -1.]\n",
      "  [ 1.  2.]\n",
      "  [ 0. -3.]\n",
      "  [-6.  0.]]\n",
      "\n",
      " [[ 4.  3.]\n",
      "  [ 4.  5.]\n",
      "  [-1.  1.]\n",
      "  [-2. -9.]\n",
      "  [ 7.  0.]]\n",
      "\n",
      " [[ 0.  3.]\n",
      "  [ 0.  0.]\n",
      "  [ 0.  0.]\n",
      "  [ 0.  0.]\n",
      "  [ 0.  0.]]]\n"
     ]
    }
   ],
   "source": [
    "vdiff = np.r_[np.diff(x,1,0), np.zeros([1,x.shape[1]])]\n",
    "hdiff = np.c_[np.diff(x,1,1), np.zeros([x.shape[0],1])]\n",
    "\n",
    "print('vdiff, vertical differences:\\n',vdiff,'\\n')\n",
    "print('hdiff, horizontal differences:\\n',hdiff,'\\n')\n",
    "print('total Dx:',np.concatenate((vdiff[...,np.newaxis], hdiff[...,np.newaxis]), axis=2))"
   ]
  },
  {
   "cell_type": "markdown",
   "metadata": {},
   "source": [
    "The "
   ]
  },
  {
   "cell_type": "code",
   "execution_count": 42,
   "metadata": {},
   "outputs": [],
   "source": [
    "D = lambda x : np.c_['2,3',np.r_[np.diff(x,1,0), np.zeros([1,x.shape[1]])],np.c_[np.diff(x,1,1), np.zeros([x.shape[0],1])]]"
   ]
  },
  {
   "cell_type": "markdown",
   "metadata": {},
   "source": [
    "defined in *ForwardBackwardDual.ipynb* is just a more compact definition of D(x)."
   ]
  }
 ],
 "metadata": {
  "kernelspec": {
   "display_name": "new-ml-proj-2",
   "language": "python",
   "name": "python3"
  },
  "language_info": {
   "codemirror_mode": {
    "name": "ipython",
    "version": 3
   },
   "file_extension": ".py",
   "mimetype": "text/x-python",
   "name": "python",
   "nbconvert_exporter": "python",
   "pygments_lexer": "ipython3",
   "version": "3.10.8"
  }
 },
 "nbformat": 4,
 "nbformat_minor": 2
}
